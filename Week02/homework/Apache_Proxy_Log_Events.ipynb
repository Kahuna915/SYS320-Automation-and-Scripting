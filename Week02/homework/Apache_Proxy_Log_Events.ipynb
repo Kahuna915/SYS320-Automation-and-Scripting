{
 "cells": [
  {
   "cell_type": "code",
   "execution_count": 109,
   "outputs": [
    {
     "data": {
      "text/plain": "<module 'proxyalerts' from 'C:\\\\Users\\\\noahs\\\\PycharmProjects\\\\SYS320-Automation-and-Scripting\\\\Week02\\\\homework\\\\proxyalerts.py'>"
     },
     "execution_count": 109,
     "metadata": {},
     "output_type": "execute_result"
    }
   ],
   "source": [
    "import apachelog2\n",
    "import proxy\n",
    "import proxyopened\n",
    "import proxyalerts\n",
    "import importlib\n",
    "importlib.reload(apachelog2)\n",
    "importlib.reload(proxy)\n",
    "importlib.reload((proxyopened))\n",
    "importlib.reload((proxyalerts))"
   ],
   "metadata": {
    "collapsed": false,
    "pycharm": {
     "name": "#%%\n"
    }
   }
  },
  {
   "cell_type": "markdown",
   "source": [
    "### Apache PHP"
   ],
   "metadata": {
    "collapsed": false,
    "pycharm": {
     "name": "#%% md\n"
    }
   }
  },
  {
   "cell_type": "code",
   "execution_count": 110,
   "outputs": [
    {
     "name": "stdout",
     "output_type": "stream",
     "text": [
      "404 GET /wordpress/wp-login.php\n",
      "404 GET /mediawiki/index.php?title=Main_Page\n"
     ]
    }
   ],
   "source": [
    "apachelog2.apache_events('../../logs/access.log','apache', 'php')"
   ],
   "metadata": {
    "collapsed": false,
    "pycharm": {
     "name": "#%%\n"
    }
   }
  },
  {
   "cell_type": "code",
   "execution_count": 111,
   "outputs": [
    {
     "name": "stdout",
     "output_type": "stream",
     "text": [
      "404 GET /cgi-bin/htsearch?Exclude=%60/etc/passwd%60\n",
      "404 POST /cgi-bin/test-cgi\n",
      "404 GET /cgi-bin/test-cgi\n"
     ]
    }
   ],
   "source": [
    "apachelog2.apache_events('../../logs/access.log', 'apache', 'cgi')"
   ],
   "metadata": {
    "collapsed": false,
    "pycharm": {
     "name": "#%%\n"
    }
   }
  },
  {
   "cell_type": "markdown",
   "source": [
    "QQ"
   ],
   "metadata": {
    "collapsed": false,
    "pycharm": {
     "name": "#%% md\n"
    }
   }
  },
  {
   "cell_type": "code",
   "execution_count": 112,
   "outputs": [
    {
     "name": "stdout",
     "output_type": "stream",
     "text": [
      "QQ.exe tcpconn.tencent.com:80 133 bytes sent, 0 bytes received,\n",
      "QQ.exe tcpconn3.tencent.com:443 149 bytes sent, 121 bytes received,\n",
      "QQ.exe tcpconn6.tencent.com:443 0 bytes sent, 0 bytes received,\n",
      "QQ.exe tcpconn3.tencent.com:80 0 bytes sent, 0 bytes received,\n",
      "QQ.exe tcpconn6.tencent.com:80 0 bytes sent, 0 bytes received,\n",
      "QQ.exe cgi.qqweb.qq.com:80 477 bytes sent, 448 bytes received,\n",
      "QQProtectUpd.exe qdun-data.qq.com:443 261 bytes sent, 70 bytes received,\n"
     ]
    }
   ],
   "source": [
    "proxy.proxy('../../logs/Proxifier_2k.log', 'apache', 'exe')"
   ],
   "metadata": {
    "collapsed": false,
    "pycharm": {
     "name": "#%%\n"
    }
   }
  },
  {
   "cell_type": "markdown",
   "source": [
    "Proxy Opened"
   ],
   "metadata": {
    "collapsed": false,
    "pycharm": {
     "name": "#%% md\n"
    }
   }
  },
  {
   "cell_type": "code",
   "execution_count": 113,
   "outputs": [
    {
     "name": "stdout",
     "output_type": "stream",
     "text": [
      "QQ.exe\n",
      "QQProtectUpd.exe\n",
      "QQPlayer.exe\n"
     ]
    }
   ],
   "source": [
    "proxyopened.proxyopened('../../logs/Proxifier_2k.log', 'apache', 'proxyopened')"
   ],
   "metadata": {
    "collapsed": false,
    "pycharm": {
     "name": "#%%\n"
    }
   }
  },
  {
   "cell_type": "markdown",
   "source": [
    "Apache/Proxy Log Events"
   ],
   "metadata": {
    "collapsed": false,
    "pycharm": {
     "name": "#%% md\n"
    }
   }
  },
  {
   "cell_type": "code",
   "execution_count": 114,
   "outputs": [
    {
     "name": "stdout",
     "output_type": "stream",
     "text": [
      "QQPlayer.exe | HTTPS | open through proxy: proxy.cse.cuhk.edu.hk:5070 | btrace.qq.com:80\n",
      "QQ.exe | HTTPS | open through proxy: proxy.cse.cuhk.edu.hk:5070 | tcpconn3.tencent.com:443\n",
      "QQ.exe | HTTPS | open through proxy: proxy.cse.cuhk.edu.hk:5070 | 183.60.49.182:443\n",
      "QQProtectUpd.exe | HTTPS | open through proxy: proxy.cse.cuhk.edu.hk:5070 | qdun-data.qq.com:443\n",
      "QQ.exe | connect | error : Could: not | tcpconn4.tencent.com:80\n",
      "QQ.exe | HTTPS | open through proxy: proxy.cse.cuhk.edu.hk:5070 | tcpconn.tencent.com:80\n",
      "QQProtectUpd.exe | connect | error : Could: not | qd-update.qq.com:8080\n",
      "QQ.exe | HTTPS | open through proxy: proxy.cse.cuhk.edu.hk:5070 | tcpconn6.tencent.com:80\n",
      "QQExternal.exe | KB) | close, 1644 bytes: (1.60 | proxy.cse.cuhk.edu.hk:5070\n",
      "QQ.exe | HTTPS | open through proxy: proxy.cse.cuhk.edu.hk:5070 | tcpconn6.tencent.com:443\n",
      "QQ.exe | HTTPS | open through proxy: proxy.cse.cuhk.edu.hk:5070 | cgi.qqweb.qq.com:80\n"
     ]
    }
   ],
   "source": [
    "proxyalerts.proxyalert('../../logs/Proxifier_2k.log', 'apache', 'proxylogsfromQQ')"
   ],
   "metadata": {
    "collapsed": false,
    "pycharm": {
     "name": "#%%\n"
    }
   }
  }
 ],
 "metadata": {
  "kernelspec": {
   "display_name": "Python 3",
   "language": "python",
   "name": "python3"
  },
  "language_info": {
   "codemirror_mode": {
    "name": "ipython",
    "version": 2
   },
   "file_extension": ".py",
   "mimetype": "text/x-python",
   "name": "python",
   "nbconvert_exporter": "python",
   "pygments_lexer": "ipython2",
   "version": "2.7.6"
  }
 },
 "nbformat": 4,
 "nbformat_minor": 0
}