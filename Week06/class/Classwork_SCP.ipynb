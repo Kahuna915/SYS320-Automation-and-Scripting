{
 "cells": [
  {
   "cell_type": "code",
   "execution_count": 1,
   "metadata": {
    "collapsed": true
   },
   "outputs": [],
   "source": [
    "import paramiko\n",
    "from getpass import getpass\n",
    "\n",
    "# Create the password Prompt\n",
    "thePass = getpass(prompt='Please enter your SSH Password: ')\n",
    "\n",
    "# Host information\n",
    "host = \"192.168.74.130\"\n",
    "port = 22\n",
    "username = \"noah.stiles\"\n",
    "password = thePass\n",
    "\n",
    "try:\n",
    "    ssh = paramiko.SSHClient()\n",
    "    ssh.set_missing_host_key_policy(paramiko.AutoAddPolicy())\n",
    "    ssh.connect(host, port, username, password)\n",
    "\n",
    "except paramiko.AuthenticationException:\n",
    "    print(\"Authentication Failed\")"
   ]
  },
  {
   "cell_type": "code",
   "execution_count": 6,
   "outputs": [
    {
     "ename": "FileNotFoundError",
     "evalue": "[Errno 2] No such file",
     "output_type": "error",
     "traceback": [
      "\u001B[1;31m---------------------------------------------------------------------------\u001B[0m",
      "\u001B[1;31mFileNotFoundError\u001B[0m                         Traceback (most recent call last)",
      "Input \u001B[1;32mIn [6]\u001B[0m, in \u001B[0;36m<module>\u001B[1;34m\u001B[0m\n\u001B[0;32m     16\u001B[0m     \u001B[38;5;66;03m# Local Path to store files\u001B[39;00m\n\u001B[0;32m     17\u001B[0m     local_path \u001B[38;5;241m=\u001B[39m \u001B[38;5;124m\"\u001B[39m\u001B[38;5;124mremote_files/\u001B[39m\u001B[38;5;124m\"\u001B[39m \u001B[38;5;241m+\u001B[39m filename\n\u001B[1;32m---> 19\u001B[0m     \u001B[43msftp\u001B[49m\u001B[38;5;241;43m.\u001B[39;49m\u001B[43mget\u001B[49m\u001B[43m(\u001B[49m\u001B[43meach_File\u001B[49m\u001B[43m,\u001B[49m\u001B[43m \u001B[49m\u001B[43mlocal_path\u001B[49m\u001B[43m)\u001B[49m\n\u001B[0;32m     20\u001B[0m     \u001B[38;5;66;03m#sftp.put(LOCALFILE,REMOTESIDE)\u001B[39;00m\n\u001B[0;32m     22\u001B[0m ssh\u001B[38;5;241m.\u001B[39mclose()\n",
      "File \u001B[1;32m~\\AppData\\Local\\Programs\\Python\\Python38-32\\lib\\site-packages\\paramiko\\sftp_client.py:811\u001B[0m, in \u001B[0;36mSFTPClient.get\u001B[1;34m(self, remotepath, localpath, callback, prefetch)\u001B[0m\n\u001B[0;32m    791\u001B[0m \u001B[38;5;124;03m\"\"\"\u001B[39;00m\n\u001B[0;32m    792\u001B[0m \u001B[38;5;124;03mCopy a remote file (``remotepath``) from the SFTP server to the local\u001B[39;00m\n\u001B[0;32m    793\u001B[0m \u001B[38;5;124;03mhost as ``localpath``.  Any exception raised by operations will be\u001B[39;00m\n\u001B[1;32m   (...)\u001B[0m\n\u001B[0;32m    808\u001B[0m \u001B[38;5;124;03m    Added the ``prefetch`` keyword argument.\u001B[39;00m\n\u001B[0;32m    809\u001B[0m \u001B[38;5;124;03m\"\"\"\u001B[39;00m\n\u001B[0;32m    810\u001B[0m \u001B[38;5;28;01mwith\u001B[39;00m \u001B[38;5;28mopen\u001B[39m(localpath, \u001B[38;5;124m\"\u001B[39m\u001B[38;5;124mwb\u001B[39m\u001B[38;5;124m\"\u001B[39m) \u001B[38;5;28;01mas\u001B[39;00m fl:\n\u001B[1;32m--> 811\u001B[0m     size \u001B[38;5;241m=\u001B[39m \u001B[38;5;28;43mself\u001B[39;49m\u001B[38;5;241;43m.\u001B[39;49m\u001B[43mgetfo\u001B[49m\u001B[43m(\u001B[49m\u001B[43mremotepath\u001B[49m\u001B[43m,\u001B[49m\u001B[43m \u001B[49m\u001B[43mfl\u001B[49m\u001B[43m,\u001B[49m\u001B[43m \u001B[49m\u001B[43mcallback\u001B[49m\u001B[43m,\u001B[49m\u001B[43m \u001B[49m\u001B[43mprefetch\u001B[49m\u001B[43m)\u001B[49m\n\u001B[0;32m    812\u001B[0m s \u001B[38;5;241m=\u001B[39m os\u001B[38;5;241m.\u001B[39mstat(localpath)\n\u001B[0;32m    813\u001B[0m \u001B[38;5;28;01mif\u001B[39;00m s\u001B[38;5;241m.\u001B[39mst_size \u001B[38;5;241m!=\u001B[39m size:\n",
      "File \u001B[1;32m~\\AppData\\Local\\Programs\\Python\\Python38-32\\lib\\site-packages\\paramiko\\sftp_client.py:782\u001B[0m, in \u001B[0;36mSFTPClient.getfo\u001B[1;34m(self, remotepath, fl, callback, prefetch)\u001B[0m\n\u001B[0;32m    761\u001B[0m \u001B[38;5;28;01mdef\u001B[39;00m \u001B[38;5;21mgetfo\u001B[39m(\u001B[38;5;28mself\u001B[39m, remotepath, fl, callback\u001B[38;5;241m=\u001B[39m\u001B[38;5;28;01mNone\u001B[39;00m, prefetch\u001B[38;5;241m=\u001B[39m\u001B[38;5;28;01mTrue\u001B[39;00m):\n\u001B[0;32m    762\u001B[0m     \u001B[38;5;124;03m\"\"\"\u001B[39;00m\n\u001B[0;32m    763\u001B[0m \u001B[38;5;124;03m    Copy a remote file (``remotepath``) from the SFTP server and write to\u001B[39;00m\n\u001B[0;32m    764\u001B[0m \u001B[38;5;124;03m    an open file or file-like object, ``fl``.  Any exception raised by\u001B[39;00m\n\u001B[1;32m   (...)\u001B[0m\n\u001B[0;32m    780\u001B[0m \u001B[38;5;124;03m        Added the ``prefetch`` keyword argument.\u001B[39;00m\n\u001B[0;32m    781\u001B[0m \u001B[38;5;124;03m    \"\"\"\u001B[39;00m\n\u001B[1;32m--> 782\u001B[0m     file_size \u001B[38;5;241m=\u001B[39m \u001B[38;5;28;43mself\u001B[39;49m\u001B[38;5;241;43m.\u001B[39;49m\u001B[43mstat\u001B[49m\u001B[43m(\u001B[49m\u001B[43mremotepath\u001B[49m\u001B[43m)\u001B[49m\u001B[38;5;241m.\u001B[39mst_size\n\u001B[0;32m    783\u001B[0m     \u001B[38;5;28;01mwith\u001B[39;00m \u001B[38;5;28mself\u001B[39m\u001B[38;5;241m.\u001B[39mopen(remotepath, \u001B[38;5;124m\"\u001B[39m\u001B[38;5;124mrb\u001B[39m\u001B[38;5;124m\"\u001B[39m) \u001B[38;5;28;01mas\u001B[39;00m fr:\n\u001B[0;32m    784\u001B[0m         \u001B[38;5;28;01mif\u001B[39;00m prefetch:\n",
      "File \u001B[1;32m~\\AppData\\Local\\Programs\\Python\\Python38-32\\lib\\site-packages\\paramiko\\sftp_client.py:493\u001B[0m, in \u001B[0;36mSFTPClient.stat\u001B[1;34m(self, path)\u001B[0m\n\u001B[0;32m    491\u001B[0m path \u001B[38;5;241m=\u001B[39m \u001B[38;5;28mself\u001B[39m\u001B[38;5;241m.\u001B[39m_adjust_cwd(path)\n\u001B[0;32m    492\u001B[0m \u001B[38;5;28mself\u001B[39m\u001B[38;5;241m.\u001B[39m_log(DEBUG, \u001B[38;5;124m\"\u001B[39m\u001B[38;5;124mstat(\u001B[39m\u001B[38;5;132;01m{!r}\u001B[39;00m\u001B[38;5;124m)\u001B[39m\u001B[38;5;124m\"\u001B[39m\u001B[38;5;241m.\u001B[39mformat(path))\n\u001B[1;32m--> 493\u001B[0m t, msg \u001B[38;5;241m=\u001B[39m \u001B[38;5;28;43mself\u001B[39;49m\u001B[38;5;241;43m.\u001B[39;49m\u001B[43m_request\u001B[49m\u001B[43m(\u001B[49m\u001B[43mCMD_STAT\u001B[49m\u001B[43m,\u001B[49m\u001B[43m \u001B[49m\u001B[43mpath\u001B[49m\u001B[43m)\u001B[49m\n\u001B[0;32m    494\u001B[0m \u001B[38;5;28;01mif\u001B[39;00m t \u001B[38;5;241m!=\u001B[39m CMD_ATTRS:\n\u001B[0;32m    495\u001B[0m     \u001B[38;5;28;01mraise\u001B[39;00m SFTPError(\u001B[38;5;124m\"\u001B[39m\u001B[38;5;124mExpected attributes\u001B[39m\u001B[38;5;124m\"\u001B[39m)\n",
      "File \u001B[1;32m~\\AppData\\Local\\Programs\\Python\\Python38-32\\lib\\site-packages\\paramiko\\sftp_client.py:822\u001B[0m, in \u001B[0;36mSFTPClient._request\u001B[1;34m(self, t, *arg)\u001B[0m\n\u001B[0;32m    820\u001B[0m \u001B[38;5;28;01mdef\u001B[39;00m \u001B[38;5;21m_request\u001B[39m(\u001B[38;5;28mself\u001B[39m, t, \u001B[38;5;241m*\u001B[39marg):\n\u001B[0;32m    821\u001B[0m     num \u001B[38;5;241m=\u001B[39m \u001B[38;5;28mself\u001B[39m\u001B[38;5;241m.\u001B[39m_async_request(\u001B[38;5;28mtype\u001B[39m(\u001B[38;5;28;01mNone\u001B[39;00m), t, \u001B[38;5;241m*\u001B[39marg)\n\u001B[1;32m--> 822\u001B[0m     \u001B[38;5;28;01mreturn\u001B[39;00m \u001B[38;5;28;43mself\u001B[39;49m\u001B[38;5;241;43m.\u001B[39;49m\u001B[43m_read_response\u001B[49m\u001B[43m(\u001B[49m\u001B[43mnum\u001B[49m\u001B[43m)\u001B[49m\n",
      "File \u001B[1;32m~\\AppData\\Local\\Programs\\Python\\Python38-32\\lib\\site-packages\\paramiko\\sftp_client.py:874\u001B[0m, in \u001B[0;36mSFTPClient._read_response\u001B[1;34m(self, waitfor)\u001B[0m\n\u001B[0;32m    871\u001B[0m \u001B[38;5;28;01mif\u001B[39;00m num \u001B[38;5;241m==\u001B[39m waitfor:\n\u001B[0;32m    872\u001B[0m     \u001B[38;5;66;03m# synchronous\u001B[39;00m\n\u001B[0;32m    873\u001B[0m     \u001B[38;5;28;01mif\u001B[39;00m t \u001B[38;5;241m==\u001B[39m CMD_STATUS:\n\u001B[1;32m--> 874\u001B[0m         \u001B[38;5;28;43mself\u001B[39;49m\u001B[38;5;241;43m.\u001B[39;49m\u001B[43m_convert_status\u001B[49m\u001B[43m(\u001B[49m\u001B[43mmsg\u001B[49m\u001B[43m)\u001B[49m\n\u001B[0;32m    875\u001B[0m     \u001B[38;5;28;01mreturn\u001B[39;00m t, msg\n\u001B[0;32m    877\u001B[0m \u001B[38;5;66;03m# can not rewrite this to deal with E721, either as a None check\u001B[39;00m\n\u001B[0;32m    878\u001B[0m \u001B[38;5;66;03m# nor as not an instance of None or NoneType\u001B[39;00m\n",
      "File \u001B[1;32m~\\AppData\\Local\\Programs\\Python\\Python38-32\\lib\\site-packages\\paramiko\\sftp_client.py:903\u001B[0m, in \u001B[0;36mSFTPClient._convert_status\u001B[1;34m(self, msg)\u001B[0m\n\u001B[0;32m    900\u001B[0m     \u001B[38;5;28;01mraise\u001B[39;00m \u001B[38;5;167;01mEOFError\u001B[39;00m(text)\n\u001B[0;32m    901\u001B[0m \u001B[38;5;28;01melif\u001B[39;00m code \u001B[38;5;241m==\u001B[39m SFTP_NO_SUCH_FILE:\n\u001B[0;32m    902\u001B[0m     \u001B[38;5;66;03m# clever idea from john a. meinel: map the error codes to errno\u001B[39;00m\n\u001B[1;32m--> 903\u001B[0m     \u001B[38;5;28;01mraise\u001B[39;00m \u001B[38;5;167;01mIOError\u001B[39;00m(errno\u001B[38;5;241m.\u001B[39mENOENT, text)\n\u001B[0;32m    904\u001B[0m \u001B[38;5;28;01melif\u001B[39;00m code \u001B[38;5;241m==\u001B[39m SFTP_PERMISSION_DENIED:\n\u001B[0;32m    905\u001B[0m     \u001B[38;5;28;01mraise\u001B[39;00m \u001B[38;5;167;01mIOError\u001B[39;00m(errno\u001B[38;5;241m.\u001B[39mEACCES, text)\n",
      "\u001B[1;31mFileNotFoundError\u001B[0m: [Errno 2] No such file"
     ]
    }
   ],
   "source": [
    "# Instigate SFTP Session\n",
    "sftp = ssh.open_sftp()\n",
    "\n",
    "# List of files to download\n",
    "files = ['/etc/hosts', '/etc/passwd', '/var/log/auth.log']\n",
    "\n",
    "# Loop through the files and download them\n",
    "for each_File in files:\n",
    "\n",
    "    # Create a list from the filename\n",
    "    x = each_File.split(\"/\")\n",
    "    # -1 plucks last element of a list\n",
    "    filename = x[-1]\n",
    "\n",
    "\n",
    "    # Local Path to store files\n",
    "    local_path = \"remote_files/\" + filename\n",
    "\n",
    "    sftp.get(each_File, local_path)\n",
    "    #sftp.put(LOCALFILE,REMOTESIDE)\n",
    "\n",
    "ssh.close()"
   ],
   "metadata": {
    "collapsed": false,
    "pycharm": {
     "name": "#%%\n"
    }
   }
  }
 ],
 "metadata": {
  "kernelspec": {
   "display_name": "Python 3",
   "language": "python",
   "name": "python3"
  },
  "language_info": {
   "codemirror_mode": {
    "name": "ipython",
    "version": 2
   },
   "file_extension": ".py",
   "mimetype": "text/x-python",
   "name": "python",
   "nbconvert_exporter": "python",
   "pygments_lexer": "ipython2",
   "version": "2.7.6"
  }
 },
 "nbformat": 4,
 "nbformat_minor": 0
}