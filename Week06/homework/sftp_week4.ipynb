{
 "cells": [
  {
   "cell_type": "code",
   "execution_count": 5,
   "metadata": {
    "collapsed": true
   },
   "outputs": [],
   "source": [
    "import paramiko\n",
    "from getpass import getpass\n",
    "import os\n",
    "\n",
    "# Create the password Prompt\n",
    "thePass = getpass(prompt='Please enter your SSH Password: ')\n",
    "\n",
    "# Host information\n",
    "host = \"192.168.74.130\"\n",
    "port = 22\n",
    "username = \"root\"\n",
    "password = thePass\n",
    "\n",
    "try:\n",
    "    ssh = paramiko.SSHClient()\n",
    "    ssh.set_missing_host_key_policy(paramiko.AutoAddPolicy())\n",
    "    ssh.connect(host, port, username, password)\n",
    "\n",
    "except paramiko.AuthenticationException:\n",
    "    print(\"Authentication Failed\")"
   ]
  },
  {
   "cell_type": "code",
   "execution_count": 6,
   "outputs": [
    {
     "name": "stdout",
     "output_type": "stream",
     "text": [
      "Finished!\n"
     ]
    }
   ],
   "source": [
    "# Instigate SFTP Session\n",
    "sftp = ssh.open_sftp()\n",
    "\n",
    "# upload our scripts to our linux server\n",
    "sftp.put('fs.py', '/usr/bin/ssh_script.py')\n",
    "\n",
    "sftp.close()\n",
    "\n",
    "run = \"python3 /usr/bin/ssh_script.py -d '/usr/bin' > /usr/bin/ssh_output.txt\"\n",
    "\n",
    "stdin, stdout, stderr = ssh.exec_command(run)\n",
    "\n",
    "sftp = ssh.open_sftp()\n",
    "\n",
    "sftp.get(\"/usr/bin/ssh_output.txt\", \"ssh_output.txt\")\n",
    "print(\"Finished!\")\n",
    "sftp.close()\n",
    "\n",
    "#ssh.close()"
   ],
   "metadata": {
    "collapsed": false,
    "pycharm": {
     "name": "#%%\n"
    }
   }
  }
 ],
 "metadata": {
  "kernelspec": {
   "display_name": "Python 3",
   "language": "python",
   "name": "python3"
  },
  "language_info": {
   "codemirror_mode": {
    "name": "ipython",
    "version": 2
   },
   "file_extension": ".py",
   "mimetype": "text/x-python",
   "name": "python",
   "nbconvert_exporter": "python",
   "pygments_lexer": "ipython2",
   "version": "2.7.6"
  }
 },
 "nbformat": 4,
 "nbformat_minor": 0
}