{
 "cells": [
  {
   "cell_type": "code",
   "execution_count": 119,
   "metadata": {
    "collapsed": true
   },
   "outputs": [],
   "source": [
    "# Author Noah Stiles\n",
    "# 3/8/2022\n",
    "# Threat Hunter\n",
    "import paramiko\n",
    "from getpass import getpass\n",
    "\n",
    "# Create the password Prompt\n",
    "thePass = getpass(prompt='Please enter your SSH Password: ')\n",
    "\n",
    "# Host information\n",
    "host = \"192.168.6.71\"\n",
    "port = 2222\n",
    "username = \"noah.stiles\"\n",
    "password = thePass\n",
    "\n",
    "try:\n",
    "    ssh = paramiko.SSHClient()\n",
    "    ssh.set_missing_host_key_policy(paramiko.AutoAddPolicy())\n",
    "    ssh.connect(host, port, username, password)\n",
    "\n",
    "except paramiko.AuthenticationException:\n",
    "    print(\"Authentication Failed\")"
   ]
  },
  {
   "cell_type": "code",
   "execution_count": 120,
   "outputs": [],
   "source": [
    "\n",
    "# Run our kraken:\n",
    "kraken_command = \"sudo /home/noah.stiles/kraken --folder /usr/bin --folder  /usr/sbin/ --folder /usr/local/bin --folder /sbin --folder /usr/local/sbin --folder /bin > /home/noah.stiles/kraken_test2.txt\"\n",
    "\n",
    "# Task 2\n",
    "def kraken(command):\n",
    "    for eachCMD in command:\n",
    "        # Get the output from the command\n",
    "        stdin, stdout, stderr = ssh.exec_command(eachCMD)\n",
    "        stdin.write(thePass + \"\\n\") #sudo with the command\n",
    "\n",
    "        #Establish sftp to go get the file\n",
    "        sftp = ssh.open_sftp()\n",
    "\n",
    "        # get the results\n",
    "        sftp.get(\"/home/noah.stiles/kraken_test2.txt\", \"kraken_test2.txt\")\n",
    "\n",
    "        # close sftp connection\n",
    "        sftp.close()\n",
    "\n",
    "kraken(kraken_command)\n",
    "# call our function\n"
   ],
   "metadata": {
    "collapsed": false,
    "pycharm": {
     "name": "#%%\n"
    }
   }
  },
  {
   "cell_type": "code",
   "execution_count": 121,
   "outputs": [],
   "source": [
    "import re\n",
    "#Open and read the file\n",
    "with open('kraken_test2.txt') as ye:\n",
    "    contents = (ye.readlines())\n",
    "    #print(contents)\n",
    "    results = []\n",
    "\n",
    "    for line in contents:\n",
    "        # Finds anything with = sign after it\n",
    "        match = re.findall(r'=(\\d+)' , line)\n",
    "        #print(match)\n",
    "\n",
    "        # saves the results to our list\n",
    "        if len(match) > 0:\n",
    "            results.append(match[0])\n",
    "\n",
    "#print(results)\n"
   ],
   "metadata": {
    "collapsed": false,
    "pycharm": {
     "name": "#%%\n"
    }
   }
  },
  {
   "cell_type": "code",
   "execution_count": 122,
   "outputs": [],
   "source": [
    "# Task 3\n",
    "# Using PID from Kraken, use lsof to find suspcisous files\n",
    "lsof_pid_cmd = [\"sudo -S lsof -p\"]\n",
    "#Probably could make this a variable if my Kraken File was nicer to me\n",
    "def lsof(command):\n",
    "    for eachCMD in command:\n",
    "        # Get the output from the command\n",
    "        stdin, stdout, stderr = ssh.exec_command(eachCMD + str(match) + '>> lsof_outputtest2')\n",
    "        stdin.write(thePass + \"\\n\")\n",
    "\n",
    "        sftp = ssh.open_sftp()\n",
    "\n",
    "        # get the results\n",
    "        sftp.get(\"/home/noah.stiles/lsof_output.txt\", \"lsof_outputtest2.txt\")\n",
    "\n",
    "        # close sftp connection\n",
    "        sftp.close()\n",
    "\n",
    "lsof(lsof_pid_cmd)\n"
   ],
   "metadata": {
    "collapsed": false,
    "pycharm": {
     "name": "#%%\n"
    }
   }
  },
  {
   "cell_type": "code",
   "execution_count": 123,
   "outputs": [],
   "source": [
    "# Download the suspicous files with the given path from the lsof output\n",
    "# Task 4\n",
    "# Automate this?\n",
    "# Instigate SFTP Session\n",
    "sftp = ssh.open_sftp()\n",
    "# Here are the file paths that we got from the file\n",
    "sus_files_path = [\"/usr/lib/x86_64-linux-gnu/libpthread-2.31.so\",\n",
    "            \"/usr/local/bin/ls\",\n",
    "            \"/usr/lib/x86_64-linux-gnu/ld-2.31.so\",\n",
    "            \"/home/p.dalton/test-lk/.d.log\",\n",
    "            \"/home/p.dalton/test-lk/.d.log\",\n",
    "            \"/home/p.dalton/test-lk/d.pid\",\n",
    "    ]\n",
    "# Loop through the files and download them\n",
    "for each_File in sus_files_path:\n",
    "\n",
    "    # Create a list from the filename\n",
    "    x = each_File.split(\"/\")\n",
    "    # -1 plucks last element of a list\n",
    "    filename = x[-1]\n",
    "\n",
    "\n",
    "    # Local Path to store files\n",
    "    local_path = \"Suspicious_Files/\" + filename\n",
    "\n",
    "    sftp.get(each_File, local_path)\n"
   ],
   "metadata": {
    "collapsed": false,
    "pycharm": {
     "name": "#%%\n"
    }
   }
  },
  {
   "cell_type": "code",
   "execution_count": 124,
   "outputs": [],
   "source": [
    "# Firstly check the processes running on the system\n",
    "rp_command = ['ps -aux']\n",
    "\n",
    "def in_depth_look(command):\n",
    "\n",
    "    for eachCMD in command:\n",
    "        # Get the output from the command\n",
    "        stdin, stdout, stderr = ssh.exec_command(eachCMD)\n",
    "        stdin.write(thePass + \"\\n\")\n",
    "\n",
    "        # Get results from stdout\n",
    "\n",
    "        lines = stdout.readlines()\n",
    "        #print(lines)\n",
    "        # Conert the list to a string\n",
    "        output = ''.join(lines)\n",
    "        # Header output\n",
    "        sepHeader = '' + '###BEGIN ' + eachCMD + '###\\n\\n'\n",
    "        sepFooter = '' + '###END ' + eachCMD + '###\\n\\n'\n",
    "        # Combine the header output and footer\n",
    "        cmd_output = sepHeader + output + sepFooter\n",
    "        #print(cmd_output)\n",
    "        # Save output to a file\n",
    "\n",
    "        with open('running_Process.txt', 'w') as yf:\n",
    "            yf.write(cmd_output)\n",
    "\n",
    "in_depth_look(rp_command)\n",
    "\n",
    "\n"
   ],
   "metadata": {
    "collapsed": false,
    "pycharm": {
     "name": "#%%\n"
    }
   }
  },
  {
   "cell_type": "code",
   "execution_count": 125,
   "outputs": [],
   "source": [
    "passwdFile = ['sudo -S cp /etc/passwd /home/noah.stiles/noah.stiles.passwd.txt']\n",
    "def passwd(command):\n",
    "    for eachCMD in command:\n",
    "        # Get the output from the command\n",
    "        stdin, stdout, stderr = ssh.exec_command(eachCMD)\n",
    "        stdin.write(thePass + \"\\n\")\n",
    "\n",
    "        sftp = ssh.open_sftp()\n",
    "\n",
    "        # get the results\n",
    "        sftp.get(\"/home/noah.stiles/noah.stiles.passwd.txt\", \"noah.stiles.passwd.txt\")\n",
    "\n",
    "        # close sftp connection\n",
    "        #sftp.close()\n",
    "\n",
    "passwd(passwdFile)"
   ],
   "metadata": {
    "collapsed": false,
    "pycharm": {
     "name": "#%%\n"
    }
   }
  },
  {
   "cell_type": "code",
   "execution_count": 126,
   "outputs": [],
   "source": [
    "\n",
    "authlogFile = [\"sudo -S cp /var/log/auth.log /home/noah.stiles/auth.log\", \"sudo -S chown naoh.stiles /home/noah.stiles/auth.log\"]\n",
    "\n",
    "def authlog(command):\n",
    "    for eachCMD in command:\n",
    "        # Get the output from the command\n",
    "        stdin, stdout, stderr = ssh.exec_command(eachCMD)\n",
    "        stdin.write(thePass + \"\\n\")\n",
    "\n",
    "        sftp = ssh.open_sftp()\n",
    "\n",
    "        # get the results\n",
    "        sftp.get(\"/home/noah.stiles/auth.log\", \"auth.log\")\n",
    "\n",
    "        # close sftp connection\n",
    "        sftp.close()\n",
    "\n",
    "authlog(authlogFile)\n",
    "ssh.close()"
   ],
   "metadata": {
    "collapsed": false,
    "pycharm": {
     "name": "#%%\n"
    }
   }
  }
 ],
 "metadata": {
  "kernelspec": {
   "display_name": "Python 3",
   "language": "python",
   "name": "python3"
  },
  "language_info": {
   "codemirror_mode": {
    "name": "ipython",
    "version": 2
   },
   "file_extension": ".py",
   "mimetype": "text/x-python",
   "name": "python",
   "nbconvert_exporter": "python",
   "pygments_lexer": "ipython2",
   "version": "2.7.6"
  }
 },
 "nbformat": 4,
 "nbformat_minor": 0
}