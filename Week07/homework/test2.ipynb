{
 "cells": [
  {
   "cell_type": "code",
   "execution_count": null,
   "metadata": {
    "collapsed": true
   },
   "outputs": [],
   "source": []
  },
  {
   "cell_type": "code",
   "execution_count": 1,
   "outputs": [
    {
     "name": "stdout",
     "output_type": "stream",
     "text": [
      "Running Kraken...\n",
      "\n",
      "Error 1\n"
     ]
    }
   ],
   "source": [
    "import paramiko\n",
    "from getpass import getpass\n",
    "\n",
    "# Host Information\n",
    "host = \"192.168.6.71\"\n",
    "port = 2222\n",
    "username = \"noah.stiles\"\n",
    "\n",
    "\n",
    "# Create the password prompt\n",
    "ssh_passwd = getpass(prompt=\"Please Enter your SSH Password: \\n\\n\")\n",
    "password = ssh_passwd\n",
    "\n",
    "\n",
    "def kraken_scan():\n",
    "    # attempt to get our ssh connection, exit on bad password\n",
    "    try:\n",
    "        ssh = paramiko.SSHClient()\n",
    "        ssh.set_missing_host_key_policy(paramiko.AutoAddPolicy())\n",
    "        ssh.connect(host, port, username, password)\n",
    "    except paramiko.AuthenticationException:\n",
    "        print(\"Authentication Failed\")\n",
    "        exit(0)\n",
    "\n",
    "    # Send our python script to the server:\n",
    "    sftp = ssh.open_sftp()\n",
    "\n",
    "    # The name of the script to upload\n",
    "    file = \"kraken\"\n",
    "\n",
    "    # upload the script\n",
    "    sftp.put(file, \"/home/noah.stiles/kraken\")\n",
    "\n",
    "    # close our sftp session\n",
    "    sftp.close()\n",
    "    # make the file executeable:\n",
    "    command_exec = \"sudo chmod +x ./kraken\"\n",
    "    stdin, stdout, stderr = ssh.exec_command(command_exec)\n",
    "\n",
    "    # Run our hunt:\n",
    "    command_hunt = \"sudo ./kraken --folder /usr/bin --folder --folder /usr/sbin/ --folder /usr/local/bin --folder \" \\\n",
    "      \"/sbin --folder /usr/local/sbin --folder /bin > /home/noah.stiles/k_output.txt \"\n",
    "\n",
    "    # run our command that runs the script\n",
    "    print(\"Running Kraken...\\n\")\n",
    "    stdin, stdout, stderr = ssh.exec_command(command_hunt)\n",
    "    stdin.write(ssh_passwd + \"/n\")\n",
    "\n",
    "    # Wait until the command is done before exiting\n",
    "    exit_status = stdout.channel.recv_exit_status()\n",
    "    if exit_status == 0:\n",
    "        print(\"Done Running Kraken... \\n\")\n",
    "    else:\n",
    "        print(\"Error\", exit_status)\n",
    "\n",
    "\n",
    "    # open a new sftp session\n",
    "    sftp = ssh.open_sftp()\n",
    "\n",
    "    # get our results from the system\n",
    "\n",
    "    sftp.get(\"/home/noah.stiles/k_output.txt\", \"k_output.txt\")\n",
    "\n",
    "    # close the second sftp session\n",
    "    sftp.close()\n",
    "\n",
    "    # cose the ssh connection.\n",
    "    ssh.close()\n",
    "\n",
    "\n",
    "kraken_scan()"
   ],
   "metadata": {
    "collapsed": false,
    "pycharm": {
     "name": "#%%\n"
    }
   }
  }
 ],
 "metadata": {
  "kernelspec": {
   "display_name": "Python 3",
   "language": "python",
   "name": "python3"
  },
  "language_info": {
   "codemirror_mode": {
    "name": "ipython",
    "version": 2
   },
   "file_extension": ".py",
   "mimetype": "text/x-python",
   "name": "python",
   "nbconvert_exporter": "python",
   "pygments_lexer": "ipython2",
   "version": "2.7.6"
  }
 },
 "nbformat": 4,
 "nbformat_minor": 0
}