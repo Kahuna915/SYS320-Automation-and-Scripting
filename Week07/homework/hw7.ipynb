{
 "cells": [
  {
   "cell_type": "code",
   "execution_count": 9,
   "metadata": {
    "collapsed": true
   },
   "outputs": [],
   "source": [
    "import paramiko\n",
    "from getpass import getpass\n",
    "\n",
    "# Create the password Prompt\n",
    "thePass = getpass(prompt='Please enter your SSH Password: ')\n",
    "\n",
    "# Host information\n",
    "host = \"192.168.6.71\"\n",
    "port = 2222\n",
    "username = \"noah.stiles\"\n",
    "password = thePass\n",
    "\n",
    "try:\n",
    "    ssh = paramiko.SSHClient()\n",
    "    ssh.set_missing_host_key_policy(paramiko.AutoAddPolicy())\n",
    "    ssh.connect(host, port, username, password)\n",
    "\n",
    "except paramiko.AuthenticationException:\n",
    "    print(\"Authentication Failed\")"
   ]
  },
  {
   "cell_type": "code",
   "execution_count": 10,
   "outputs": [],
   "source": [
    "#test = [\n",
    "    #'ps -ef', 'netstat -an --inet'\n",
    "#]\n",
    "\n",
    "\n",
    "# Open sftp connection\n",
    "sftp = ssh.open_sftp()\n",
    "\n",
    "file = \"kraken\"\n",
    "\n",
    "# upload the file\n",
    "sftp.put(file, \"/home/noah.stiles/kraken\")\n",
    "\n",
    "# close our sftp session\n",
    "sftp.close()\n",
    "# make the file an executeable:\n",
    "file_execution = \"sudo chmod +x /home/noah.stiles/kraken\"\n",
    "stdin, stdout, stderr = ssh.exec_command(file_execution)\n",
    "\n",
    "# Run our kraken:\n",
    "kraken_command = \"sudo /home/noah.stiles/kraken --folder /usr/bin --folder --folder /usr/sbin/ --folder /usr/local/bin --folder \" \\\n",
    "      \"/sbin --folder /usr/local/sbin --folder /bin > /home/noah.stiles/kraken_test1.txt\"\n",
    "\n",
    "# run our script itself\n",
    "stdin, stdout, stderr = ssh.exec_command(kraken_command)\n",
    "\n",
    "\n",
    "\n",
    "\n",
    "# open a new sftp session\n",
    "sftp = ssh.open_sftp()\n",
    "\n",
    "# get the results\n",
    "sftp.get(\"/home/noah.stiles/kraken_test1.txt\", \"kraken_test1.txt\")\n",
    "\n",
    "# close sftp connection\n",
    "sftp.close()\n",
    "\n",
    "#and close ssh\n",
    "ssh.close()\n",
    "\n",
    "\n"
   ],
   "metadata": {
    "collapsed": false,
    "pycharm": {
     "name": "#%%\n"
    }
   }
  },
  {
   "cell_type": "code",
   "execution_count": 11,
   "outputs": [],
   "source": [
    "def our_commands(command):\n",
    "    for eachCMD in command:\n",
    "        # Get the output from the command\n",
    "        stdin, stdout, stderr = ssh.exec_command(eachCMD)\n",
    "\n",
    "        # Get results from stdout\n",
    "\n",
    "        lines = stdout.readlines()\n",
    "        #print(lines)\n",
    "        # Conert the list to a string\n",
    "        output = ''.join(lines)\n",
    "        # Header output\n",
    "        sepHeader = '' + '###BEGIN ' + eachCMD + '###\\n\\n'\n",
    "        sepFooter = '' + '###END ' + eachCMD + '###\\n\\n'\n",
    "\n",
    "        # Combine the header output and footer\n",
    "        cmd_output = sepHeader + output + sepFooter\n",
    "        #print(cmd_output)\n",
    "\n",
    "        # Save output to a file\n",
    "\n",
    "        with open('output_remote_login_hw.txt', 'a') as yf:\n",
    "            yf.write(cmd_output)\n",
    "\n",
    "    #ssh.close()\n",
    "\n",
    "#our_commands(test)\n",
    "#our_commands(command_to_use)\n"
   ],
   "metadata": {
    "collapsed": false,
    "pycharm": {
     "name": "#%%\n"
    }
   }
  }
 ],
 "metadata": {
  "kernelspec": {
   "display_name": "Python 3",
   "language": "python",
   "name": "python3"
  },
  "language_info": {
   "codemirror_mode": {
    "name": "ipython",
    "version": 2
   },
   "file_extension": ".py",
   "mimetype": "text/x-python",
   "name": "python",
   "nbconvert_exporter": "python",
   "pygments_lexer": "ipython2",
   "version": "2.7.6"
  }
 },
 "nbformat": 4,
 "nbformat_minor": 0
}