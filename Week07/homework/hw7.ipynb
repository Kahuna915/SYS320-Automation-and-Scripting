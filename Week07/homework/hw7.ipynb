{
 "cells": [
  {
   "cell_type": "code",
   "execution_count": 1,
   "metadata": {
    "collapsed": true
   },
   "outputs": [],
   "source": [
    "import paramiko\n",
    "from getpass import getpass\n",
    "import os\n",
    "# Create the password Prompt\n",
    "thePass = getpass(prompt='Please enter your SSH Password: ')\n",
    "\n",
    "# Host information\n",
    "host = \"192.168.6.71\"\n",
    "port = 2222\n",
    "username = \"noah.stiles\"\n",
    "password = thePass\n",
    "\n",
    "try:\n",
    "    ssh = paramiko.SSHClient()\n",
    "    ssh.set_missing_host_key_policy(paramiko.AutoAddPolicy())\n",
    "    ssh.connect(host, port, username, password)\n",
    "\n",
    "except paramiko.AuthenticationException:\n",
    "    print(\"Authentication Failed\")"
   ]
  },
  {
   "cell_type": "code",
   "execution_count": 2,
   "outputs": [],
   "source": [
    "#test = [\n",
    "    #'ps -ef', 'netstat -an --inet'\n",
    "#]\n",
    "\n",
    "\n",
    "# Open sftp connection\n",
    "#sftp = ssh.open_sftp()\n",
    "\n",
    "#filename = \"C:\\\\Users\\\\noahs\\\\PycharmProjects\\\\SYS320-Automation-and-Scripting\\\\Week07\\\\homework\\\\kraken\"\n",
    "\n",
    "# upload the file\n",
    "#sftp.put(filename, \"/home/noah.stiles/kraken\")\n",
    "\n",
    "# close our sftp session\n",
    "#sftp.close()\n",
    "\n",
    "# make the file an executeable:\n",
    "#file_execution = \"chmod +x /home/noah.stiles/kraken\"\n",
    "#stdin, stdout, stderr = ssh.exec_command(file_execution)\n",
    "#print(stderr)\n",
    "# Run our kraken:\n",
    "kraken_command = \"sudo /home/noah.stiles/kraken --folder /usr/bin --folder  /usr/sbin/ --folder /usr/local/bin --folder /sbin --folder /usr/local/sbin --folder /bin > /home/noah.stiles/kraken_test2.txt\"\n",
    "\n",
    "# run our script itself\n",
    "#stdin, stdout, stderr = ssh.exec_command(kraken_command)\n",
    "#print(stderr)\n",
    "#stdin.write(thePass + \"\\n\")\n",
    "\n",
    "\n",
    "\n",
    "# open a new sftp session\n",
    "#sftp = ssh.open_sftp()\n",
    "\n",
    "# get the results\n",
    "#sftp.get(\"/home/noah.stiles/kraken_test1.txt\", \"kraken_test1.txt\")\n",
    "\n",
    "# close sftp connection\n",
    "#sftp.close()\n",
    "\n",
    "# Task 2\n",
    "def kraken(command):\n",
    "    for eachCMD in command:\n",
    "        # Get the output from the command\n",
    "        stdin, stdout, stderr = ssh.exec_command(eachCMD)\n",
    "        stdin.write(thePass + \"\\n\")\n",
    "\n",
    "        sftp = ssh.open_sftp()\n",
    "\n",
    "        # get the results\n",
    "        sftp.get(\"/home/noah.stiles/kraken_test2.txt\", \"kraken_test2.txt\")\n",
    "\n",
    "        # close sftp connection\n",
    "        sftp.close()\n",
    "\n",
    "kraken(kraken_command)\n",
    "\n"
   ],
   "metadata": {
    "collapsed": false,
    "pycharm": {
     "name": "#%%\n"
    }
   }
  },
  {
   "cell_type": "code",
   "execution_count": null,
   "outputs": [],
   "source": [],
   "metadata": {
    "collapsed": false,
    "pycharm": {
     "name": "#%%\n"
    }
   }
  },
  {
   "cell_type": "code",
   "execution_count": 3,
   "outputs": [],
   "source": [
    "# Task 3\n",
    "# Using PID from Kraken, use lsof to find suspcisous files\n",
    "lsof_pid_cmd = [\"sudo -S lsof -p 3138 > lsof_output.txt\",\n",
    "                \"sudo -S lsof -p 3027 >> lsof_output.txt\",\n",
    "                \"sudo -S lsof -p 3025 >> lsof_output.txt\",]\n",
    "#Probably could make this a variable if my Kraken File was nicer to me\n",
    "def lsof(command):\n",
    "    for eachCMD in command:\n",
    "        # Get the output from the command\n",
    "        stdin, stdout, stderr = ssh.exec_command(eachCMD)\n",
    "        stdin.write(thePass + \"\\n\")\n",
    "\n",
    "        sftp = ssh.open_sftp()\n",
    "\n",
    "        # get the results\n",
    "        sftp.get(\"/home/noah.stiles/lsof_output.txt\", \"lsof_output.txt\")\n",
    "\n",
    "        # close sftp connection\n",
    "        sftp.close()\n",
    "\n",
    "lsof(lsof_pid_cmd)\n"
   ],
   "metadata": {
    "collapsed": false,
    "pycharm": {
     "name": "#%%\n"
    }
   }
  },
  {
   "cell_type": "code",
   "execution_count": 4,
   "outputs": [],
   "source": [
    "# Download the suspicous files with the given path from the lsof output\n",
    "# Task 4\n",
    "# Instigate SFTP Session\n",
    "sftp = ssh.open_sftp()\n",
    "# Here are the file paths that we got from the file\n",
    "sus_files_path = [\"/usr/lib/x86_64-linux-gnu/libpthread-2.31.so\",\n",
    "            \"/usr/local/bin/ls\",\n",
    "            \"/usr/lib/x86_64-linux-gnu/ld-2.31.so\",\n",
    "            \"/home/p.dalton/test-lk/.d.log\",\n",
    "            \"/home/p.dalton/test-lk/.d.log\",\n",
    "            \"/home/p.dalton/test-lk/d.pid\",\n",
    "    ]\n",
    "# Loop through the files and download them\n",
    "for each_File in sus_files_path:\n",
    "\n",
    "    # Create a list from the filename\n",
    "    x = each_File.split(\"/\")\n",
    "    # -1 plucks last element of a list\n",
    "    filename = x[-1]\n",
    "\n",
    "\n",
    "    # Local Path to store files\n",
    "    local_path = \"Suspicious_Files/\" + filename\n",
    "\n",
    "    sftp.get(each_File, local_path)\n"
   ],
   "metadata": {
    "collapsed": false,
    "pycharm": {
     "name": "#%%\n"
    }
   }
  },
  {
   "cell_type": "code",
   "execution_count": 5,
   "outputs": [],
   "source": [
    "# Firstly check the processes running on the system\n",
    "rp_command = ['ps -aux']\n",
    "\n",
    "def in_depth_look(command):\n",
    "\n",
    "    for eachCMD in command:\n",
    "        # Get the output from the command\n",
    "        stdin, stdout, stderr = ssh.exec_command(eachCMD)\n",
    "        stdin.write(thePass + \"\\n\")\n",
    "\n",
    "        # Get results from stdout\n",
    "\n",
    "        lines = stdout.readlines()\n",
    "        #print(lines)\n",
    "        # Conert the list to a string\n",
    "        output = ''.join(lines)\n",
    "        # Header output\n",
    "        sepHeader = '' + '###BEGIN ' + eachCMD + '###\\n\\n'\n",
    "        sepFooter = '' + '###END ' + eachCMD + '###\\n\\n'\n",
    "        # Combine the header output and footer\n",
    "        cmd_output = sepHeader + output + sepFooter\n",
    "        #print(cmd_output)\n",
    "        # Save output to a file\n",
    "\n",
    "        with open('running_Process.txt', 'w') as yf:\n",
    "            yf.write(cmd_output)\n",
    "\n",
    "in_depth_look(rp_command)\n",
    "\n",
    "\n"
   ],
   "metadata": {
    "collapsed": false,
    "pycharm": {
     "name": "#%%\n"
    }
   }
  },
  {
   "cell_type": "code",
   "execution_count": 6,
   "outputs": [],
   "source": [
    "passwdFile = ['sudo -S cp /etc/passwd /home/noah.stiles/noah.stiles.passwd.txt']\n",
    "def passwd(command):\n",
    "    for eachCMD in command:\n",
    "        # Get the output from the command\n",
    "        stdin, stdout, stderr = ssh.exec_command(eachCMD)\n",
    "        stdin.write(thePass + \"\\n\")\n",
    "\n",
    "        sftp = ssh.open_sftp()\n",
    "\n",
    "        # get the results\n",
    "        sftp.get(\"/home/noah.stiles/noah.stiles.passwd.txt\", \"noah.stiles.passwd.txt\")\n",
    "\n",
    "        # close sftp connection\n",
    "        #sftp.close()\n",
    "\n",
    "passwd(passwdFile)"
   ],
   "metadata": {
    "collapsed": false,
    "pycharm": {
     "name": "#%%\n"
    }
   }
  },
  {
   "cell_type": "code",
   "execution_count": 7,
   "outputs": [],
   "source": [
    "\n",
    "authlogFile = [\"sudo -S cp /var/log/auth.log /home/noah.stiles/auth.log\", \"sudo -S chown naoh.stiles /home/noah.stiles/auth.log\"]\n",
    "\n",
    "def authlog(command):\n",
    "    for eachCMD in command:\n",
    "        # Get the output from the command\n",
    "        stdin, stdout, stderr = ssh.exec_command(eachCMD)\n",
    "        stdin.write(thePass + \"\\n\")\n",
    "\n",
    "        sftp = ssh.open_sftp()\n",
    "\n",
    "        # get the results\n",
    "        sftp.get(\"/home/noah.stiles/auth.log\", \"auth.log\")\n",
    "\n",
    "        # close sftp connection\n",
    "        sftp.close()\n",
    "\n",
    "authlog(authlogFile)"
   ],
   "metadata": {
    "collapsed": false,
    "pycharm": {
     "name": "#%%\n"
    }
   }
  },
  {
   "cell_type": "code",
   "execution_count": 8,
   "outputs": [],
   "source": [
    "\n",
    "\n",
    "def our_commands(command):\n",
    "    for eachCMD in command:\n",
    "        # Get the output from the command\n",
    "        stdin, stdout, stderr = ssh.exec_command(eachCMD)\n",
    "\n",
    "        # Get results from stdout\n",
    "\n",
    "        lines = stdout.readlines()\n",
    "        #print(lines)\n",
    "        # Conert the list to a string\n",
    "        output = ''.join(lines)\n",
    "        # Header output\n",
    "        sepHeader = '' + '###BEGIN ' + eachCMD + '###\\n\\n'\n",
    "        sepFooter = '' + '###END ' + eachCMD + '###\\n\\n'\n",
    "\n",
    "        # Combine the header output and footer\n",
    "        cmd_output = sepHeader + output + sepFooter\n",
    "        #print(cmd_output)\n",
    "\n",
    "        # Save output to a file\n",
    "\n",
    "        with open('output_remote_login_hw.txt', 'a') as yf:\n",
    "            yf.write(cmd_output)\n",
    "\n",
    "    #ssh.close()\n",
    "\n",
    "#our_commands(test)\n",
    "#our_commands(command_to_use)\n"
   ],
   "metadata": {
    "collapsed": false,
    "pycharm": {
     "name": "#%%\n"
    }
   }
  }
 ],
 "metadata": {
  "kernelspec": {
   "display_name": "Python 3",
   "language": "python",
   "name": "python3"
  },
  "language_info": {
   "codemirror_mode": {
    "name": "ipython",
    "version": 2
   },
   "file_extension": ".py",
   "mimetype": "text/x-python",
   "name": "python",
   "nbconvert_exporter": "python",
   "pygments_lexer": "ipython2",
   "version": "2.7.6"
  }
 },
 "nbformat": 4,
 "nbformat_minor": 0
}