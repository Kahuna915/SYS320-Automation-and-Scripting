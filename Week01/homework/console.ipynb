{
 "cells": [
  {
   "cell_type": "code",
   "execution_count": 46,
   "metadata": {
    "collapsed": true
   },
   "outputs": [
    {
     "ename": "ModuleNotFoundError",
     "evalue": "spec not found for the module 'sorter'",
     "output_type": "error",
     "traceback": [
      "\u001B[1;31m---------------------------------------------------------------------------\u001B[0m",
      "\u001B[1;31mModuleNotFoundError\u001B[0m                       Traceback (most recent call last)",
      "Input \u001B[1;32mIn [46]\u001B[0m, in \u001B[0;36m<module>\u001B[1;34m\u001B[0m\n\u001B[0;32m      6\u001B[0m importlib\u001B[38;5;241m.\u001B[39mreload(authentication_fail)\n\u001B[0;32m      7\u001B[0m importlib\u001B[38;5;241m.\u001B[39mreload(sshdOpened)\n\u001B[1;32m----> 8\u001B[0m \u001B[43mimportlib\u001B[49m\u001B[38;5;241;43m.\u001B[39;49m\u001B[43mreload\u001B[49m\u001B[43m(\u001B[49m\u001B[43mopenedSU\u001B[49m\u001B[43m)\u001B[49m\n\u001B[0;32m      9\u001B[0m importlib\u001B[38;5;241m.\u001B[39mreload(authentication_failed_19280)\n",
      "File \u001B[1;32m~\\AppData\\Local\\Programs\\Python\\Python38-32\\lib\\importlib\\__init__.py:169\u001B[0m, in \u001B[0;36mreload\u001B[1;34m(module)\u001B[0m\n\u001B[0;32m    167\u001B[0m \u001B[38;5;28;01mif\u001B[39;00m spec \u001B[38;5;129;01mis\u001B[39;00m \u001B[38;5;28;01mNone\u001B[39;00m:\n\u001B[0;32m    168\u001B[0m     \u001B[38;5;28;01mraise\u001B[39;00m \u001B[38;5;167;01mModuleNotFoundError\u001B[39;00m(\u001B[38;5;124mf\u001B[39m\u001B[38;5;124m\"\u001B[39m\u001B[38;5;124mspec not found for the module \u001B[39m\u001B[38;5;132;01m{\u001B[39;00mname\u001B[38;5;132;01m!r}\u001B[39;00m\u001B[38;5;124m\"\u001B[39m, name\u001B[38;5;241m=\u001B[39mname)\n\u001B[1;32m--> 169\u001B[0m \u001B[43m_bootstrap\u001B[49m\u001B[38;5;241;43m.\u001B[39;49m\u001B[43m_exec\u001B[49m\u001B[43m(\u001B[49m\u001B[43mspec\u001B[49m\u001B[43m,\u001B[49m\u001B[43m \u001B[49m\u001B[43mmodule\u001B[49m\u001B[43m)\u001B[49m\n\u001B[0;32m    170\u001B[0m \u001B[38;5;66;03m# The module may have replaced itself in sys.modules!\u001B[39;00m\n\u001B[0;32m    171\u001B[0m \u001B[38;5;28;01mreturn\u001B[39;00m sys\u001B[38;5;241m.\u001B[39mmodules[name]\n",
      "File \u001B[1;32m<frozen importlib._bootstrap>:604\u001B[0m, in \u001B[0;36m_exec\u001B[1;34m(spec, module)\u001B[0m\n",
      "File \u001B[1;32m<frozen importlib._bootstrap_external>:783\u001B[0m, in \u001B[0;36mexec_module\u001B[1;34m(self, module)\u001B[0m\n",
      "File \u001B[1;32m<frozen importlib._bootstrap>:219\u001B[0m, in \u001B[0;36m_call_with_frames_removed\u001B[1;34m(f, *args, **kwds)\u001B[0m\n",
      "File \u001B[1;32m~\\PycharmProjects\\SYS320-Automation-and-Scripting\\Week01\\homework\\openedSU.py:3\u001B[0m, in \u001B[0;36m<module>\u001B[1;34m\u001B[0m\n\u001B[0;32m      1\u001B[0m \u001B[38;5;28;01mimport\u001B[39;00m \u001B[38;5;21;01msorterChecker\u001B[39;00m\n\u001B[0;32m      2\u001B[0m \u001B[38;5;28;01mimport\u001B[39;00m \u001B[38;5;21;01mimportlib\u001B[39;00m\n\u001B[1;32m----> 3\u001B[0m \u001B[43mimportlib\u001B[49m\u001B[38;5;241;43m.\u001B[39;49m\u001B[43mreload\u001B[49m\u001B[43m(\u001B[49m\u001B[43msorter\u001B[49m\u001B[43m)\u001B[49m\n\u001B[0;32m      4\u001B[0m \u001B[38;5;66;03m# SSH authentication failures\u001B[39;00m\n\u001B[0;32m      5\u001B[0m \u001B[38;5;28;01mdef\u001B[39;00m \u001B[38;5;21mSU_opened\u001B[39m(filename, searchTerms):\n\u001B[0;32m      6\u001B[0m \n\u001B[0;32m      7\u001B[0m         \u001B[38;5;66;03m# call syslogcheck and return the result\u001B[39;00m\n",
      "File \u001B[1;32m~\\AppData\\Local\\Programs\\Python\\Python38-32\\lib\\importlib\\__init__.py:168\u001B[0m, in \u001B[0;36mreload\u001B[1;34m(module)\u001B[0m\n\u001B[0;32m    166\u001B[0m spec \u001B[38;5;241m=\u001B[39m module\u001B[38;5;241m.\u001B[39m__spec__ \u001B[38;5;241m=\u001B[39m _bootstrap\u001B[38;5;241m.\u001B[39m_find_spec(name, pkgpath, target)\n\u001B[0;32m    167\u001B[0m \u001B[38;5;28;01mif\u001B[39;00m spec \u001B[38;5;129;01mis\u001B[39;00m \u001B[38;5;28;01mNone\u001B[39;00m:\n\u001B[1;32m--> 168\u001B[0m     \u001B[38;5;28;01mraise\u001B[39;00m \u001B[38;5;167;01mModuleNotFoundError\u001B[39;00m(\u001B[38;5;124mf\u001B[39m\u001B[38;5;124m\"\u001B[39m\u001B[38;5;124mspec not found for the module \u001B[39m\u001B[38;5;132;01m{\u001B[39;00mname\u001B[38;5;132;01m!r}\u001B[39;00m\u001B[38;5;124m\"\u001B[39m, name\u001B[38;5;241m=\u001B[39mname)\n\u001B[0;32m    169\u001B[0m _bootstrap\u001B[38;5;241m.\u001B[39m_exec(spec, module)\n\u001B[0;32m    170\u001B[0m \u001B[38;5;66;03m# The module may have replaced itself in sys.modules!\u001B[39;00m\n",
      "\u001B[1;31mModuleNotFoundError\u001B[0m: spec not found for the module 'sorter'"
     ]
    }
   ],
   "source": [
    "import authentication_fail\n",
    "import authentication_failed_19280\n",
    "import sshdOpened\n",
    "import openedSU\n",
    "import importlib\n",
    "importlib.reload(authentication_fail)\n",
    "importlib.reload(sshdOpened)\n",
    "importlib.reload(openedSU)\n",
    "importlib.reload(authentication_failed_19280)"
   ]
  },
  {
   "cell_type": "code",
   "execution_count": null,
   "outputs": [],
   "source": [],
   "metadata": {
    "collapsed": false,
    "pycharm": {
     "name": "#%%\n"
    }
   }
  },
  {
   "cell_type": "markdown",
   "source": [
    "Authentication failure klogind"
   ],
   "metadata": {
    "collapsed": false,
    "pycharm": {
     "name": "#%% md\n"
    }
   }
  },
  {
   "cell_type": "code",
   "execution_count": null,
   "outputs": [],
   "source": [
    "authentication_fail.ssh_fail('../../logs/Linux_2k.log',[' klogind.*Authentication failed.*'])"
   ],
   "metadata": {
    "collapsed": false,
    "pycharm": {
     "name": "#%%\n"
    }
   }
  },
  {
   "cell_type": "markdown",
   "source": [
    "Authentication Failure 19280\n",
    "\n",
    "Jun 30 20:53:06 combo klogind[19280]: Authentication failed from 163.27.187.39 (163.27.187.39): Software caused connection abort"
   ],
   "metadata": {
    "collapsed": false,
    "pycharm": {
     "name": "#%% md\n"
    }
   }
  },
  {
   "cell_type": "code",
   "execution_count": null,
   "outputs": [],
   "source": [
    "authentication_failed_19280.ssh_fail19280('../../logs/Linux_2k.log',['klogind\\[19280\\]:.* .*Authentication failed.*'])"
   ],
   "metadata": {
    "collapsed": false,
    "pycharm": {
     "name": "#%%\n"
    }
   }
  },
  {
   "cell_type": "markdown",
   "source": [
    "Session Opened SSH\n",
    "\n",
    "Jun 30 22:16:32 combo sshd(pam_unix)[19432]: session opened for user ddunston by (uid=509)\n",
    "(This user was not in the file given so instead I found anyone that was able to open a session.\n"
   ],
   "metadata": {
    "collapsed": false,
    "pycharm": {
     "name": "#%% md\n"
    }
   }
  },
  {
   "cell_type": "code",
   "execution_count": null,
   "outputs": [],
   "source": [
    "sshdOpened.ssh_opened('../../logs/Linux_2k.log',['sshd\\(pam_unix\\).*session opened for user.*'])"
   ],
   "metadata": {
    "collapsed": false,
    "pycharm": {
     "name": "#%%\n"
    }
   }
  },
  {
   "cell_type": "code",
   "execution_count": null,
   "outputs": [],
   "source": [
    "openedSU.SU_opened('../../logs/Linux_2k.log',['su\\(pam_unix\\).*session opened for user.*'])"
   ],
   "metadata": {
    "collapsed": false,
    "pycharm": {
     "name": "#%%\n"
    }
   }
  }
 ],
 "metadata": {
  "kernelspec": {
   "display_name": "Python 3",
   "language": "python",
   "name": "python3"
  },
  "language_info": {
   "codemirror_mode": {
    "name": "ipython",
    "version": 2
   },
   "file_extension": ".py",
   "mimetype": "text/x-python",
   "name": "python",
   "nbconvert_exporter": "python",
   "pygments_lexer": "ipython2",
   "version": "2.7.6"
  }
 },
 "nbformat": 4,
 "nbformat_minor": 0
}