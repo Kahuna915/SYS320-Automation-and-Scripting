{
 "cells": [
  {
   "cell_type": "code",
   "execution_count": 41,
   "metadata": {
    "collapsed": true
   },
   "outputs": [
    {
     "data": {
      "text/plain": "<module 'authentication_failed_19280' from 'C:\\\\Users\\\\noahs\\\\PycharmProjects\\\\SYS320-Automation-and-Scripting\\\\Week01\\\\homework\\\\authentication_failed_19280.py'>"
     },
     "execution_count": 41,
     "metadata": {},
     "output_type": "execute_result"
    }
   ],
   "source": [
    "import authentication_fail\n",
    "import authentication_failed_19280\n",
    "import sshdOpened\n",
    "import openedSU\n",
    "import importlib\n",
    "importlib.reload(authentication_fail)\n",
    "importlib.reload(sshdOpened)\n",
    "importlib.reload(openedSU)\n",
    "importlib.reload(authentication_failed_19280)"
   ]
  },
  {
   "cell_type": "code",
   "execution_count": 41,
   "outputs": [],
   "source": [],
   "metadata": {
    "collapsed": false,
    "pycharm": {
     "name": "#%%\n"
    }
   }
  },
  {
   "cell_type": "markdown",
   "source": [
    "Authentication failure klogind"
   ],
   "metadata": {
    "collapsed": false,
    "pycharm": {
     "name": "#%% md\n"
    }
   }
  },
  {
   "cell_type": "code",
   "execution_count": 42,
   "outputs": [
    {
     "name": "stdout",
     "output_type": "stream",
     "text": [
      "163.27.187.39\n"
     ]
    }
   ],
   "source": [
    "authentication_fail.ssh_fail('../../logs/Linux_2k.log',[' klogind.*Authentication failed.*'])"
   ],
   "metadata": {
    "collapsed": false,
    "pycharm": {
     "name": "#%%\n"
    }
   }
  },
  {
   "cell_type": "markdown",
   "source": [
    "Authentication Failure 19280\n",
    "\n",
    "Jun 30 20:53:06 combo klogind[19280]: Authentication failed from 163.27.187.39 (163.27.187.39): Software caused connection abort"
   ],
   "metadata": {
    "collapsed": false,
    "pycharm": {
     "name": "#%% md\n"
    }
   }
  },
  {
   "cell_type": "code",
   "execution_count": 43,
   "outputs": [
    {
     "name": "stdout",
     "output_type": "stream",
     "text": [
      "163.27.187.39 klogind[19280]: "
     ]
    }
   ],
   "source": [
    "authentication_failed_19280.ssh_fail19280('../../logs/Linux_2k.log',['klogind\\[19280\\]:.* .*Authentication failed.*'])"
   ],
   "metadata": {
    "collapsed": false,
    "pycharm": {
     "name": "#%%\n"
    }
   }
  },
  {
   "cell_type": "markdown",
   "source": [
    "Session Opened SSH\n",
    "\n",
    "Jun 30 22:16:32 combo sshd(pam_unix)[19432]: session opened for user ddunston by (uid=509)\n",
    "(This user was not in the file given so instead I found anyone that was able to open a session.\n"
   ],
   "metadata": {
    "collapsed": false,
    "pycharm": {
     "name": "#%% md\n"
    }
   }
  },
  {
   "cell_type": "code",
   "execution_count": 44,
   "outputs": [
    {
     "name": "stdout",
     "output_type": "stream",
     "text": [
      "test\n"
     ]
    }
   ],
   "source": [
    "sshdOpened.ssh_opened('../../logs/Linux_2k.log',['sshd\\(pam_unix\\).*session opened for user.*'])"
   ],
   "metadata": {
    "collapsed": false,
    "pycharm": {
     "name": "#%%\n"
    }
   }
  },
  {
   "cell_type": "code",
   "execution_count": 45,
   "outputs": [
    {
     "name": "stdout",
     "output_type": "stream",
     "text": [
      "news\n",
      "cyrus\n"
     ]
    }
   ],
   "source": [
    "openedSU.SU_opened('../../logs/Linux_2k.log',['su\\(pam_unix\\).*session opened for user.*'])"
   ],
   "metadata": {
    "collapsed": false,
    "pycharm": {
     "name": "#%%\n"
    }
   }
  }
 ],
 "metadata": {
  "kernelspec": {
   "display_name": "Python 3",
   "language": "python",
   "name": "python3"
  },
  "language_info": {
   "codemirror_mode": {
    "name": "ipython",
    "version": 2
   },
   "file_extension": ".py",
   "mimetype": "text/x-python",
   "name": "python",
   "nbconvert_exporter": "python",
   "pygments_lexer": "ipython2",
   "version": "2.7.6"
  }
 },
 "nbformat": 4,
 "nbformat_minor": 0
}