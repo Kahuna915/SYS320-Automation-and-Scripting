{
 "cells": [
  {
   "cell_type": "code",
   "execution_count": 80,
   "metadata": {
    "collapsed": true
   },
   "outputs": [],
   "source": [
    "# Create interface to search through syslog files\n",
    "\n",
    "import re"
   ]
  },
  {
   "cell_type": "code",
   "execution_count": 81,
   "outputs": [],
   "source": [
    "# Open a file\n",
    "import re\n",
    "\n",
    "with open('../../logs/smallSyslog.log') as f:\n",
    "\n",
    "    # read in the file and save it to a variable\n",
    "    contents = f.readlines()"
   ],
   "metadata": {
    "collapsed": false,
    "pycharm": {
     "name": "#%%\n"
    }
   }
  },
  {
   "cell_type": "code",
   "source": [
    "print(contents)"
   ],
   "metadata": {
    "collapsed": false,
    "pycharm": {
     "name": "#%%\n"
    }
   },
   "execution_count": 82,
   "outputs": [
    {
     "name": "stdout",
     "output_type": "stream",
     "text": [
      "['Jun 15 02:04:59 combo sshd(pam_unix)[20897]: authentication failure; logname= uid=0 euid=0 tty=NODEVssh ruser= rhost=220-135-151-1.hinet-ip.hinet.net  user=root\\n', 'Jun 15 02:04:59 combo sshd(pam_unix)[20898]: authentication failure; logname= uid=0 euid=0 tty=NODEVssh ruser= rhost=220-135-151-1.hinet-ip.hinet.net  user=root\\n', 'Jun 15 04:06:18 combo su(pam_unix)[21416]: session opened for user cyrus by (uid=0)\\n', 'Jun 15 04:06:19 combo su(pam_unix)[21416]: session closed for user cyrus\\n', 'Jun 15 04:06:20 combo logrotate: ALERT exited abnormally with [1]\\n', 'Jun 15 04:12:42 combo su(pam_unix)[22644]: session opened for user news by (uid=0)\\n', 'Jun 15 04:12:43 combo su(pam_unix)[22644]: session closed for user news\\n', 'Jun 15 12:12:34 combo sshd(pam_unix)[23397]: check pass; user unknown\\n', 'Jun 15 12:12:34 combo sshd(pam_unix)[23397]: authentication failure; logname= uid=0 euid=0 tty=NODEVssh ruser= rhost=218.188.2.4']\n"
     ]
    }
   ]
  },
  {
   "cell_type": "code",
   "execution_count": 83,
   "outputs": [],
   "source": [
    "keywords = ['sshd\\(pam_unix\\)\\[[0-9]{3,8}\\]: authentication failure', 'session opened for user.*', 'exited abnormally']"
   ],
   "metadata": {
    "collapsed": false,
    "pycharm": {
     "name": "#%%\n"
    }
   }
  },
  {
   "cell_type": "code",
   "source": [
    "# Loop through the list returned. Each element is a line from the smallSyslog file\n",
    "for line in contents:\n",
    "    # Loop through the keywords\n",
    "    for eachKeyword in keywords:\n",
    "\n",
    "        # If the line contains a keyword it will print\n",
    "        #if eachKeyword in line:\n",
    "        # searches and returns resulsts using a regular expression search\n",
    "        x = re.findall(r''+eachKeyword+'', line)\n",
    "        print(x)"
   ],
   "metadata": {
    "collapsed": false,
    "pycharm": {
     "name": "#%%\n"
    }
   },
   "execution_count": 84,
   "outputs": [
    {
     "name": "stdout",
     "output_type": "stream",
     "text": [
      "['sshd(pam_unix)[20897]: authentication failure']\n",
      "[]\n",
      "[]\n",
      "['sshd(pam_unix)[20898]: authentication failure']\n",
      "[]\n",
      "[]\n",
      "[]\n",
      "['session opened for user cyrus by (uid=0)']\n",
      "[]\n",
      "[]\n",
      "[]\n",
      "[]\n",
      "[]\n",
      "[]\n",
      "['exited abnormally']\n",
      "[]\n",
      "['session opened for user news by (uid=0)']\n",
      "[]\n",
      "[]\n",
      "[]\n",
      "[]\n",
      "[]\n",
      "[]\n",
      "[]\n",
      "['sshd(pam_unix)[23397]: authentication failure']\n",
      "[]\n",
      "[]\n"
     ]
    }
   ]
  },
  {
   "cell_type": "code",
   "execution_count": 84,
   "outputs": [],
   "source": [],
   "metadata": {
    "collapsed": false,
    "pycharm": {
     "name": "#%%\n"
    }
   }
  }
 ],
 "metadata": {
  "kernelspec": {
   "display_name": "Python 3",
   "language": "python",
   "name": "python3"
  },
  "language_info": {
   "codemirror_mode": {
    "name": "ipython",
    "version": 2
   },
   "file_extension": ".py",
   "mimetype": "text/x-python",
   "name": "python",
   "nbconvert_exporter": "python",
   "pygments_lexer": "ipython2",
   "version": "2.7.6"
  }
 },
 "nbformat": 4,
 "nbformat_minor": 0
}