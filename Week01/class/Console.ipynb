{
 "cells": [
  {
   "cell_type": "code",
   "metadata": {
    "collapsed": true,
    "pycharm": {
     "name": "#%%\n"
    }
   },
   "source": [
    "# Create interface to search through syslog files\n",
    "\n",
    "import re"
   ],
   "execution_count": null,
   "outputs": []
  },
  {
   "cell_type": "code",
   "execution_count": 81,
   "outputs": [],
   "source": [
    "# Open a file\n",
    "import re\n",
    "\n",
    "with open('../../logs/smallSyslog.log') as f:\n",
    "\n",
    "    # read in the file and save it to a variable\n",
    "    contents = f.readlines()"
   ],
   "metadata": {
    "collapsed": false,
    "pycharm": {
     "name": "#%%\n"
    }
   }
  },
  {
   "cell_type": "code",
   "source": [
    "print(contents)"
   ],
   "metadata": {
    "collapsed": false,
    "pycharm": {
     "name": "#%%\n"
    }
   },
   "execution_count": null,
   "outputs": []
  },
  {
   "cell_type": "code",
   "execution_count": 83,
   "outputs": [],
   "source": [
    "keywords = ['sshd\\(pam_unix\\)\\[[0-9]{3,8}\\]: authentication failure', 'session opened for user.*', 'exited abnormally']"
   ],
   "metadata": {
    "collapsed": false,
    "pycharm": {
     "name": "#%%\n"
    }
   }
  },
  {
   "cell_type": "code",
   "source": [
    "# Loop through the list returned. Each element is a line from the smallSyslog file\n",
    "for line in contents:\n",
    "    # Loop through the keywords\n",
    "    for eachKeyword in keywords:\n",
    "\n",
    "        # If the line contains a keyword it will print\n",
    "        #if eachKeyword in line:\n",
    "        # searches and returns resulsts using a regular expression search\n",
    "        x = re.findall(r''+eachKeyword+'', line)\n",
    "        print(x)"
   ],
   "metadata": {
    "collapsed": false,
    "pycharm": {
     "name": "#%%\n"
    }
   },
   "execution_count": 84,
   "outputs": [
    {
     "name": "stdout",
     "output_type": "stream",
     "text": [
      "['sshd(pam_unix)[20897]: authentication failure']\n",
      "[]\n",
      "[]\n",
      "['sshd(pam_unix)[20898]: authentication failure']\n",
      "[]\n",
      "[]\n",
      "[]\n",
      "['session opened for user cyrus by (uid=0)']\n",
      "[]\n",
      "[]\n",
      "[]\n",
      "[]\n",
      "[]\n",
      "[]\n",
      "['exited abnormally']\n",
      "[]\n",
      "['session opened for user news by (uid=0)']\n",
      "[]\n",
      "[]\n",
      "[]\n",
      "[]\n",
      "[]\n",
      "[]\n",
      "[]\n",
      "['sshd(pam_unix)[23397]: authentication failure']\n",
      "[]\n",
      "[]\n"
     ]
    }
   ]
  },
  {
   "cell_type": "code",
   "execution_count": 84,
   "outputs": [],
   "source": [],
   "metadata": {
    "collapsed": false,
    "pycharm": {
     "name": "#%%\n"
    }
   }
  }
 ],
 "metadata": {
  "kernelspec": {
   "display_name": "Python 3",
   "language": "python",
   "name": "python3"
  },
  "language_info": {
   "codemirror_mode": {
    "name": "ipython",
    "version": 2
   },
   "file_extension": ".py",
   "mimetype": "text/x-python",
   "name": "python",
   "nbconvert_exporter": "python",
   "pygments_lexer": "ipython2",
   "version": "2.7.6"
  }
 },
 "nbformat": 4,
 "nbformat_minor": 0
}